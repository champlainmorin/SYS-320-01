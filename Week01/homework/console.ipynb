{
 "cells": [
  {
   "cell_type": "code",
   "execution_count": 3,
   "metadata": {},
   "outputs": [],
   "source": [
    "import syslogSSHAuthenticated\n",
    "import syslogFTP\n",
    "import sys"
   ]
  },
  {
   "cell_type": "markdown",
   "metadata": {},
   "source": [
    "<h1>SSH AUTHENTICATED</h1>"
   ]
  },
  {
   "cell_type": "code",
   "execution_count": 4,
   "metadata": {},
   "outputs": [
    {
     "name": "stdout",
     "output_type": "stream",
     "text": [
      "test\n"
     ]
    }
   ],
   "source": [
    "syslogSSHAuthenticated.ssh_authd_names('../../logs/Linux_2k.log', ['sshd\\(pam_unix\\).*session opened for user.*'])\n",
    "#syslogSSHAuthenticated.ssh_authd_all('../../logs/Linux_2k.log', ['sshd\\(pam_unix\\).*session opened for user.*'])\n"
   ]
  },
  {
   "cell_type": "markdown",
   "metadata": {},
   "source": [
    "<body> 3) It looks like the user that SSH'd in was a test user, maybe an attacker masquerading as a harmless testing user in order to not rouse suspicion. 4) I liked the Python programming, it is something I am quite familiar with. It was weird at first, but I also think Jupyter is a really swell tool. 5) I have no additional questions at this time. </body>"
   ]
  },
  {
   "cell_type": "markdown",
   "metadata": {},
   "source": [
    "https://drive.google.com/file/d/1iHo5K5jkWHNQ6vOevmB0UieOAhcgO9zQ/view?usp=sharing link to video"
   ]
  },
  {
   "cell_type": "markdown",
   "metadata": {},
   "source": [
    "<h2>SU Open</h2>"
   ]
  },
  {
   "cell_type": "code",
   "execution_count": null,
   "metadata": {},
   "outputs": [],
   "source": [
    "syslogSU.su_open('../../logs/smallSyslog.log', ['su\\(pam_unix\\).*session opened for user.*'])\n"
   ]
  },
  {
   "cell_type": "markdown",
   "metadata": {},
   "source": [
    "FTP Connections"
   ]
  },
  {
   "cell_type": "code",
   "execution_count": null,
   "metadata": {},
   "outputs": [],
   "source": [
    "syslogFTP.ftp_connection('../../logs/smallSyslog.log',['ftpd.*connection from'])"
   ]
  }
 ],
 "metadata": {
  "kernelspec": {
   "display_name": "Python 3.9.13 64-bit (microsoft store)",
   "language": "python",
   "name": "python3"
  },
  "language_info": {
   "codemirror_mode": {
    "name": "ipython",
    "version": 3
   },
   "file_extension": ".py",
   "mimetype": "text/x-python",
   "name": "python",
   "nbconvert_exporter": "python",
   "pygments_lexer": "ipython3",
   "version": "3.9.13"
  },
  "orig_nbformat": 4,
  "vscode": {
   "interpreter": {
    "hash": "ae83aee8a67231a21d9ecbf41c1330e79968bcaebfba708e8106bf7aec19ee1b"
   }
  }
 },
 "nbformat": 4,
 "nbformat_minor": 2
}
