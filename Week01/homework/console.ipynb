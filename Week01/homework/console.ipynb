{
 "cells": [
  {
   "cell_type": "code",
   "execution_count": 2,
   "metadata": {},
   "outputs": [],
   "source": [
    "import syslogSSHAuthenticated\n"
   ]
  },
  {
   "cell_type": "markdown",
   "metadata": {},
   "source": [
    "SSH AUTHENTICATED"
   ]
  },
  {
   "cell_type": "code",
   "execution_count": 6,
   "metadata": {},
   "outputs": [
    {
     "name": "stdout",
     "output_type": "stream",
     "text": [
      "No results.\n"
     ]
    },
    {
     "ename": "NameError",
     "evalue": "name 'sys' is not defined",
     "output_type": "error",
     "traceback": [
      "\u001b[1;31m---------------------------------------------------------------------------\u001b[0m",
      "\u001b[1;31mNameError\u001b[0m                                 Traceback (most recent call last)",
      "\u001b[1;32mc:\\Users\\Zachary Morin\\IoT-Staging\\SYS-320-01\\Week01\\homework\\console.ipynb Cell 3\u001b[0m in \u001b[0;36m<cell line: 1>\u001b[1;34m()\u001b[0m\n\u001b[1;32m----> <a href='vscode-notebook-cell:/c%3A/Users/Zachary%20Morin/IoT-Staging/SYS-320-01/Week01/homework/console.ipynb#W3sZmlsZQ%3D%3D?line=0'>1</a>\u001b[0m syslogSSHAuthenticated\u001b[39m.\u001b[39;49mssh_authd(\u001b[39m'\u001b[39;49m\u001b[39m../../logs/smallSyslog.log\u001b[39;49m\u001b[39m'\u001b[39;49m, [\u001b[39m'\u001b[39;49m\u001b[39msshd\u001b[39;49m\u001b[39m\\\u001b[39;49m\u001b[39m(pam_unix\u001b[39;49m\u001b[39m\\\u001b[39;49m\u001b[39m).*session opened for user*\u001b[39;49m\u001b[39m'\u001b[39;49m])\n",
      "File \u001b[1;32mc:\\Users\\Zachary Morin\\IoT-Staging\\SYS-320-01\\Week01\\homework\\syslogSSHAuthenticated.py:8\u001b[0m, in \u001b[0;36mssh_authd\u001b[1;34m(filename, searchTerms)\u001b[0m\n\u001b[0;32m      6\u001b[0m \u001b[39mdef\u001b[39;00m \u001b[39mssh_authd\u001b[39m(filename, searchTerms):\n\u001b[0;32m      7\u001b[0m     \u001b[39m# call syslog   \u001b[39;00m\n\u001b[1;32m----> 8\u001b[0m     is_found \u001b[39m=\u001b[39m syslogCheck\u001b[39m.\u001b[39;49m_syslog(filename, searchTerms)\n\u001b[0;32m     10\u001b[0m     \u001b[39m# found list\u001b[39;00m\n\u001b[0;32m     11\u001b[0m     found \u001b[39m=\u001b[39m []\n",
      "File \u001b[1;32mc:\\Users\\Zachary Morin\\IoT-Staging\\SYS-320-01\\Week01\\homework\\syslogCheck.py:29\u001b[0m, in \u001b[0;36m_syslog\u001b[1;34m(filename, listOfKeywords)\u001b[0m\n\u001b[0;32m     27\u001b[0m \u001b[39mif\u001b[39;00m \u001b[39mlen\u001b[39m(results)\u001b[39m==\u001b[39m\u001b[39m0\u001b[39m:\n\u001b[0;32m     28\u001b[0m     \u001b[39mprint\u001b[39m(\u001b[39m'\u001b[39m\u001b[39mNo results.\u001b[39m\u001b[39m'\u001b[39m)\n\u001b[1;32m---> 29\u001b[0m     sys\u001b[39m.\u001b[39mexit(\u001b[39m1\u001b[39m)\n\u001b[0;32m     31\u001b[0m \u001b[39m# sorts\u001b[39;00m\n\u001b[0;32m     32\u001b[0m results\u001b[39m=\u001b[39m\u001b[39msorted\u001b[39m(results)\n",
      "\u001b[1;31mNameError\u001b[0m: name 'sys' is not defined"
     ]
    }
   ],
   "source": [
    "syslogSSHAuthenticated.ssh_authd('../../logs/Linux_2k.log', ['sshd\\(pam_unix\\).*session opened for user*'])\n"
   ]
  },
  {
   "cell_type": "markdown",
   "metadata": {},
   "source": [
    "<h2>SU Open</h2>"
   ]
  },
  {
   "cell_type": "code",
   "execution_count": 16,
   "metadata": {},
   "outputs": [
    {
     "name": "stdout",
     "output_type": "stream",
     "text": [
      "['Jun 15 02:04:59 combo sshd(pam_unix)[20897]: authentication failure; logname= uid=0 euid=0 tty=NODEVssh ruser= rhost=220-135-151-1.hinet-ip.hinet.net  user=root\\n', 'Jun 15 02:04:59 combo sshd(pam_unix)[20898]: authentication failure; logname= uid=0 euid=0 tty=NODEVssh ruser= rhost=220-135-151-1.hinet-ip.hinet.net  user=root\\n', 'Jun 15 04:06:18 combo su(pam_unix)[21416]: session opened for user cyrus by (uid=0)\\n', 'Jun 15 04:06:19 combo su(pam_unix)[21416]: session closed for user cyrus\\n', 'Jun 15 04:06:20 combo logrotate: ALERT exited abnormally with [1]\\n', 'Jun 15 04:12:42 combo su(pam_unix)[22644]: session opened for user news by (uid=0)\\n', 'Jun 15 04:12:43 combo su(pam_unix)[22644]: session closed for user news\\n', 'Jun 15 12:12:34 combo sshd(pam_unix)[23397]: check pass; user unknown\\n', 'Jun 15 12:12:34 combo sshd(pam_unix)[23397]: authentication failure; logname= uid=0 euid=0 tty=NODEVssh ruser= rhost=218.188.2.4 ']\n",
      "{'cyrus', 'news'}\n",
      "cyrus\n",
      "news\n"
     ]
    }
   ],
   "source": [
    "syslogSU.su_open('../../logs/smallSyslog.log', ['su\\(pam_unix\\).*session opened for user.*'])\n"
   ]
  },
  {
   "cell_type": "markdown",
   "metadata": {},
   "source": [
    "FTP Connections"
   ]
  },
  {
   "cell_type": "code",
   "execution_count": null,
   "metadata": {},
   "outputs": [],
   "source": [
    "syslogFTP.ftp_connection('../../logs/smallSyslog.log',['ftpd.*connection from'])"
   ]
  }
 ],
 "metadata": {
  "kernelspec": {
   "display_name": "Python 3.9.13 64-bit (microsoft store)",
   "language": "python",
   "name": "python3"
  },
  "language_info": {
   "codemirror_mode": {
    "name": "ipython",
    "version": 3
   },
   "file_extension": ".py",
   "mimetype": "text/x-python",
   "name": "python",
   "nbconvert_exporter": "python",
   "pygments_lexer": "ipython3",
   "version": "3.9.13"
  },
  "orig_nbformat": 4,
  "vscode": {
   "interpreter": {
    "hash": "ae83aee8a67231a21d9ecbf41c1330e79968bcaebfba708e8106bf7aec19ee1b"
   }
  }
 },
 "nbformat": 4,
 "nbformat_minor": 2
}
