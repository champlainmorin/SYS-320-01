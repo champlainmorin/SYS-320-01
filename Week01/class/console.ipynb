{
 "cells": [
  {
   "cell_type": "code",
   "execution_count": 14,
   "metadata": {},
   "outputs": [
    {
     "data": {
      "text/plain": [
       "<module 'syslogSSH' from 'c:\\\\Users\\\\Zachary Morin\\\\Desktop\\\\Schoolwork\\\\Week01\\\\class\\\\syslogSSH.py'>"
      ]
     },
     "execution_count": 14,
     "metadata": {},
     "output_type": "execute_result"
    }
   ],
   "source": [
    "import syslogSSH as ssh\n",
    "import syslogSU\n",
    "import importlib\n",
    "import syslogFTP\n",
    "importlib.reload(ssh)"
   ]
  },
  {
   "cell_type": "markdown",
   "metadata": {},
   "source": [
    "<b>Review system logs</b>"
   ]
  },
  {
   "cell_type": "markdown",
   "metadata": {},
   "source": [
    "SSH AUTHENTICATION FAILURE DOMAINS"
   ]
  },
  {
   "cell_type": "code",
   "execution_count": null,
   "metadata": {},
   "outputs": [],
   "source": [
    "ssh.ssh_fail('../../logs/smallSyslog.log', ['sshd\\(pam_unix\\).*authentication failure.*'])\n"
   ]
  },
  {
   "cell_type": "markdown",
   "metadata": {},
   "source": [
    "<h2>SU Open</h2>"
   ]
  },
  {
   "cell_type": "code",
   "execution_count": 16,
   "metadata": {},
   "outputs": [
    {
     "name": "stdout",
     "output_type": "stream",
     "text": [
      "['Jun 15 02:04:59 combo sshd(pam_unix)[20897]: authentication failure; logname= uid=0 euid=0 tty=NODEVssh ruser= rhost=220-135-151-1.hinet-ip.hinet.net  user=root\\n', 'Jun 15 02:04:59 combo sshd(pam_unix)[20898]: authentication failure; logname= uid=0 euid=0 tty=NODEVssh ruser= rhost=220-135-151-1.hinet-ip.hinet.net  user=root\\n', 'Jun 15 04:06:18 combo su(pam_unix)[21416]: session opened for user cyrus by (uid=0)\\n', 'Jun 15 04:06:19 combo su(pam_unix)[21416]: session closed for user cyrus\\n', 'Jun 15 04:06:20 combo logrotate: ALERT exited abnormally with [1]\\n', 'Jun 15 04:12:42 combo su(pam_unix)[22644]: session opened for user news by (uid=0)\\n', 'Jun 15 04:12:43 combo su(pam_unix)[22644]: session closed for user news\\n', 'Jun 15 12:12:34 combo sshd(pam_unix)[23397]: check pass; user unknown\\n', 'Jun 15 12:12:34 combo sshd(pam_unix)[23397]: authentication failure; logname= uid=0 euid=0 tty=NODEVssh ruser= rhost=218.188.2.4 ']\n",
      "{'cyrus', 'news'}\n",
      "cyrus\n",
      "news\n"
     ]
    }
   ],
   "source": [
    "syslogSU.su_open('../../logs/smallSyslog.log', ['su\\(pam_unix\\).*session opened for user.*'])\n"
   ]
  },
  {
   "cell_type": "markdown",
   "metadata": {},
   "source": [
    "FTP Connections"
   ]
  },
  {
   "cell_type": "code",
   "execution_count": null,
   "metadata": {},
   "outputs": [],
   "source": [
    "syslogFTP.ftp_connection('../../logs/smallSyslog.log',['ftpd.*connection from'])"
   ]
  }
 ],
 "metadata": {
  "kernelspec": {
   "display_name": "Python 3.9.13 64-bit (microsoft store)",
   "language": "python",
   "name": "python3"
  },
  "language_info": {
   "codemirror_mode": {
    "name": "ipython",
    "version": 3
   },
   "file_extension": ".py",
   "mimetype": "text/x-python",
   "name": "python",
   "nbconvert_exporter": "python",
   "pygments_lexer": "ipython3",
   "version": "3.9.13"
  },
  "orig_nbformat": 4,
  "vscode": {
   "interpreter": {
    "hash": "ae83aee8a67231a21d9ecbf41c1330e79968bcaebfba708e8106bf7aec19ee1b"
   }
  }
 },
 "nbformat": 4,
 "nbformat_minor": 2
}
