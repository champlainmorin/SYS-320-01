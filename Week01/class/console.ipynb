{
 "cells": [
  {
   "cell_type": "code",
   "execution_count": 2,
   "metadata": {},
   "outputs": [
    {
     "data": {
      "text/plain": [
       "<module 'syslogSSH' from 'c:\\\\Users\\\\Zachary Morin\\\\IoT-Staging\\\\SYS-320-01\\\\Week01\\\\class\\\\syslogSSH.py'>"
      ]
     },
     "execution_count": 2,
     "metadata": {},
     "output_type": "execute_result"
    }
   ],
   "source": [
    "import syslogSSH as ssh\n",
    "import syslogSU\n",
    "import importlib\n",
    "import syslogFTP\n",
    "importlib.reload(ssh)"
   ]
  },
  {
   "cell_type": "markdown",
   "metadata": {},
   "source": [
    "<b>Review system logs</b>"
   ]
  },
  {
   "cell_type": "markdown",
   "metadata": {},
   "source": [
    "SSH AUTHENTICATION FAILURE DOMAINS"
   ]
  },
  {
   "cell_type": "code",
   "execution_count": 5,
   "metadata": {},
   "outputs": [
    {
     "name": "stdout",
     "output_type": "stream",
     "text": [
      "rhost=220-135-151-1.hinet-ip.hinet.net\n",
      "rhost=218.188.2.4\n"
     ]
    }
   ],
   "source": [
    "ssh.ssh_fail('../../logs/smallSyslog.log', ['sshd\\(pam_unix\\).*authentication failure.*'])\n"
   ]
  },
  {
   "cell_type": "markdown",
   "metadata": {},
   "source": [
    "<h2>SU Open</h2>"
   ]
  },
  {
   "cell_type": "code",
   "execution_count": 4,
   "metadata": {},
   "outputs": [
    {
     "name": "stdout",
     "output_type": "stream",
     "text": [
      "cyrus\n",
      "news\n"
     ]
    }
   ],
   "source": [
    "syslogSU.su_open('../../logs/smallSyslog.log', ['su\\(pam_unix\\).*session opened for user.*'])\n"
   ]
  },
  {
   "cell_type": "markdown",
   "metadata": {},
   "source": [
    "FTP Connections"
   ]
  },
  {
   "cell_type": "code",
   "execution_count": 3,
   "metadata": {},
   "outputs": [
    {
     "name": "stdout",
     "output_type": "stream",
     "text": [
      "No results.\n"
     ]
    },
    {
     "ename": "NameError",
     "evalue": "name 'sys' is not defined",
     "output_type": "error",
     "traceback": [
      "\u001b[1;31m---------------------------------------------------------------------------\u001b[0m",
      "\u001b[1;31mNameError\u001b[0m                                 Traceback (most recent call last)",
      "\u001b[1;32mc:\\Users\\Zachary Morin\\IoT-Staging\\SYS-320-01\\Week01\\class\\console.ipynb Cell 8\u001b[0m in \u001b[0;36m<cell line: 1>\u001b[1;34m()\u001b[0m\n\u001b[1;32m----> <a href='vscode-notebook-cell:/c%3A/Users/Zachary%20Morin/IoT-Staging/SYS-320-01/Week01/class/console.ipynb#X10sZmlsZQ%3D%3D?line=0'>1</a>\u001b[0m syslogFTP\u001b[39m.\u001b[39;49mftp_connection(\u001b[39m'\u001b[39;49m\u001b[39m../../logs/smallSyslog.log\u001b[39;49m\u001b[39m'\u001b[39;49m,[\u001b[39m'\u001b[39;49m\u001b[39mftpd.*connection from\u001b[39;49m\u001b[39m'\u001b[39;49m])\n",
      "File \u001b[1;32mc:\\Users\\Zachary Morin\\IoT-Staging\\SYS-320-01\\Week01\\class\\syslogFTP.py:9\u001b[0m, in \u001b[0;36mftp_connection\u001b[1;34m(filename, searchTerms)\u001b[0m\n\u001b[0;32m      7\u001b[0m \u001b[39mdef\u001b[39;00m \u001b[39mftp_connection\u001b[39m(filename, searchTerms):\n\u001b[0;32m      8\u001b[0m     \u001b[39m# call syslog   \u001b[39;00m\n\u001b[1;32m----> 9\u001b[0m     is_found \u001b[39m=\u001b[39m syslogCheck\u001b[39m.\u001b[39;49m_syslog(filename, searchTerms)\n\u001b[0;32m     11\u001b[0m     \u001b[39m# found list\u001b[39;00m\n\u001b[0;32m     12\u001b[0m     found \u001b[39m=\u001b[39m []\n",
      "File \u001b[1;32mc:\\Users\\Zachary Morin\\IoT-Staging\\SYS-320-01\\Week01\\class\\syslogCheck.py:29\u001b[0m, in \u001b[0;36m_syslog\u001b[1;34m(filename, listOfKeywords)\u001b[0m\n\u001b[0;32m     27\u001b[0m \u001b[39mif\u001b[39;00m \u001b[39mlen\u001b[39m(results)\u001b[39m==\u001b[39m\u001b[39m0\u001b[39m:\n\u001b[0;32m     28\u001b[0m     \u001b[39mprint\u001b[39m(\u001b[39m'\u001b[39m\u001b[39mNo results.\u001b[39m\u001b[39m'\u001b[39m)\n\u001b[1;32m---> 29\u001b[0m     sys\u001b[39m.\u001b[39mexit(\u001b[39m1\u001b[39m)\n\u001b[0;32m     31\u001b[0m \u001b[39m# sorts\u001b[39;00m\n\u001b[0;32m     32\u001b[0m results\u001b[39m=\u001b[39m\u001b[39msorted\u001b[39m(results)\n",
      "\u001b[1;31mNameError\u001b[0m: name 'sys' is not defined"
     ]
    }
   ],
   "source": [
    "syslogFTP.ftp_connection('../../logs/smallSyslog.log',['ftpd.*connection from'])"
   ]
  }
 ],
 "metadata": {
  "kernelspec": {
   "display_name": "Python 3.9.13 64-bit (microsoft store)",
   "language": "python",
   "name": "python3"
  },
  "language_info": {
   "codemirror_mode": {
    "name": "ipython",
    "version": 3
   },
   "file_extension": ".py",
   "mimetype": "text/x-python",
   "name": "python",
   "nbconvert_exporter": "python",
   "pygments_lexer": "ipython3",
   "version": "3.9.13"
  },
  "orig_nbformat": 4,
  "vscode": {
   "interpreter": {
    "hash": "ae83aee8a67231a21d9ecbf41c1330e79968bcaebfba708e8106bf7aec19ee1b"
   }
  }
 },
 "nbformat": 4,
 "nbformat_minor": 2
}
