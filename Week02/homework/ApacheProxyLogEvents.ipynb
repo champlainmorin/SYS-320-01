{
 "cells": [
  {
   "cell_type": "markdown",
   "metadata": {},
   "source": [
    "<b> Imports </b>"
   ]
  },
  {
   "cell_type": "code",
   "execution_count": 1,
   "metadata": {},
   "outputs": [
    {
     "data": {
      "text/plain": [
       "<module 'apachelog' from '/home/morin/Desktop/SYS-320-01/Week02/homework/apachelog.py'>"
      ]
     },
     "execution_count": 1,
     "metadata": {},
     "output_type": "execute_result"
    }
   ],
   "source": [
    "import apachelog\n",
    "import importlib\n",
    "importlib.reload(apachelog)"
   ]
  },
  {
   "cell_type": "markdown",
   "metadata": {},
   "source": [
    "<b> Task 1) Get all instances of QQ.exe closing. </b>"
   ]
  },
  {
   "cell_type": "code",
   "execution_count": 2,
   "metadata": {},
   "outputs": [
    {
     "name": "stdout",
     "output_type": "stream",
     "text": [
      "QQ.exe 2052.flash2-http.qq.com:80 466 bytes sent, 125682 bytes received.\n",
      "QQ.exe cgi.qqweb.qq.com:80 477 bytes sent, 448 bytes received.\n",
      "QQ.exe qqmail.tencent.com:80 336 bytes sent, 2854 bytes received.\n",
      "QQ.exe showxml.qq.com:80 600 bytes sent, 1716 bytes received.\n",
      "QQ.exe tcpconn.tencent.com:80 133 bytes sent, 0 bytes received.\n",
      "QQ.exe tcpconn3.tencent.com:443 149 bytes sent, 121 bytes received.\n",
      "QQ.exe tcpconn3.tencent.com:80 0 bytes sent, 0 bytes received.\n",
      "QQ.exe tcpconn6.tencent.com:443 0 bytes sent, 0 bytes received.\n",
      "QQ.exe tcpconn6.tencent.com:80 0 bytes sent, 0 bytes received.\n"
     ]
    }
   ],
   "source": [
    "apachelog.QQexe_events('../../logs/Proxifier_2k.log','apache','QQ')"
   ]
  },
  {
   "cell_type": "markdown",
   "metadata": {},
   "source": [
    "<b> Task 2) Extract all QQ.exe proxy opened messages. </b>"
   ]
  },
  {
   "cell_type": "code",
   "execution_count": 3,
   "metadata": {},
   "outputs": [
    {
     "name": "stdout",
     "output_type": "stream",
     "text": [
      "QQ.exe - 183.60.49.182:443 open through proxy proxy.cse.cuhk.edu.hk:5070 HTTPS\n",
      "QQ.exe - cgi.qqweb.qq.com:80 open through proxy proxy.cse.cuhk.edu.hk:5070 HTTPS\n",
      "QQ.exe - tcpconn.tencent.com:80 open through proxy proxy.cse.cuhk.edu.hk:5070 HTTPS\n",
      "QQ.exe - tcpconn3.tencent.com:443 open through proxy proxy.cse.cuhk.edu.hk:5070 HTTPS\n",
      "QQ.exe - tcpconn6.tencent.com:443 open through proxy proxy.cse.cuhk.edu.hk:5070 HTTPS\n",
      "QQ.exe - tcpconn6.tencent.com:80 open through proxy proxy.cse.cuhk.edu.hk:5070 HTTPS\n"
     ]
    }
   ],
   "source": [
    "apachelog.QQexe_open_events('../../logs/Proxifier_2k.log','apache','QQ')"
   ]
  },
  {
   "cell_type": "markdown",
   "metadata": {},
   "source": [
    "<b> Task 3) Create a YAML file for proxy logs and add the output to the existing Apache console. </b>\n",
    "<body> I renamed this console and I have a YAML file for proxy logs. </body>"
   ]
  },
  {
   "cell_type": "markdown",
   "metadata": {},
   "source": [
    "<b> Question 1) What is your interpretation of the results that you discovered (Did the files match known threat intell information?  Was there activity to and from the same remote host?) </b> \n",
    "<body> The files did not seem to match known threat intel information, but there was activity to and from the same host, namely tcpconn6.tencent.com. </body>\n",
    "\n",
    "<b> Question 2) What did you like the most and least about this assignment? NOTE: These help me understand how to improve on assignments and know what is working.) </b>\n",
    "\n",
    "<body> I liked coding the python portion to get the data extracted from the proxy logs, and I disliked setting up YAML files as I am still uncomfortable with them. </body>\n",
    "\n",
    "<b> Question 3) What additional questions do you have about this week's material?  </b>\n",
    "\n",
    "<body> Did I accomplish everything in the correct manner? I think I got to the right end result, but is the way I set this up correct? </body>"
   ]
  }
 ],
 "metadata": {
  "kernelspec": {
   "display_name": "Python 3.10.4 64-bit",
   "language": "python",
   "name": "python3"
  },
  "language_info": {
   "codemirror_mode": {
    "name": "ipython",
    "version": 3
   },
   "file_extension": ".py",
   "mimetype": "text/x-python",
   "name": "python",
   "nbconvert_exporter": "python",
   "pygments_lexer": "ipython3",
   "version": "3.10.4"
  },
  "orig_nbformat": 4,
  "vscode": {
   "interpreter": {
    "hash": "916dbcbb3f70747c44a77c7bcd40155683ae19c65e1c03b4aa3499c5328201f1"
   }
  }
 },
 "nbformat": 4,
 "nbformat_minor": 2
}
