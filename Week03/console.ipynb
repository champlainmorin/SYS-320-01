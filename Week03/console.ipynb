{
 "cells": [
  {
   "cell_type": "markdown",
   "metadata": {},
   "source": [
    "# URLHAUS"
   ]
  },
  {
   "cell_type": "code",
   "execution_count": 2,
   "metadata": {},
   "outputs": [
    {
     "data": {
      "text/plain": [
       "<module 'urlHaus' from '/home/morin/Desktop/SYS-320-01/Week03/urlHaus.py'>"
      ]
     },
     "execution_count": 2,
     "metadata": {},
     "output_type": "execute_result"
    }
   ],
   "source": [
    "import urlHaus as u\n",
    "import importlib\n",
    "importlib.reload(u)\n"
   ]
  },
  {
   "cell_type": "code",
   "execution_count": 5,
   "metadata": {},
   "outputs": [
    {
     "name": "stdout",
     "output_type": "stream",
     "text": [
      "URL: hxxps://imagingworld.edu/.win32.exe\n",
      "Info: https://urlhaus.abuse.ch/url/2018448/\n",
      "*****************************************************************\n",
      "            \n",
      "URL: hxxp://adsonia.gov/bin_tHSwF198.bin\n",
      "Info: https://urlhaus.abuse.ch/url/2018339/\n",
      "*****************************************************************\n",
      "            \n"
     ]
    }
   ],
   "source": [
    "u.urlHaus('./urlHaus.csv', ['.gov', '.edu']) # Append a forward slash to guarentee the tld is the .gov or .edu"
   ]
  },
  {
   "cell_type": "code",
   "execution_count": null,
   "metadata": {},
   "outputs": [],
   "source": [
    "u.urlHaus('./urlHausTestDataSet.csv', ['.edu', '.gov'])"
   ]
  },
  {
   "cell_type": "markdown",
   "metadata": {},
   "source": [
    "<h1><b> Questions </b></h1>\n",
    "\n",
    "<body> Question A1) Provide the URL to the CSV documentation on the Python website.  Ensure you select the site with the appropriate version of Python you are using. \n",
    "Here is the URL: https://docs.python.org/3/library/csv.html </body>\n",
    "<br>\n",
    "<br>\n",
    "<body> Question A2) What option is used if the default delimiter is not a comma? Write the full syntax.  Example csv.function(option=x, option2=y).\n",
    "The syntax is: csv.reader(givenCSVFile, delimiter=\"New Delimiter like a space or something\") </body>\n",
    "<br>\n",
    "<br>\n",
    "<body> Question A3) In a CSV file that uses a comma as a delimiter, there may be a field with a comma within it.  What option does Python provide to escape the comma within the text of a field so it is differentiated with the comma as a field delimiter?  Write the full syntax.  Example csv.function(option=x, option2=y). Using csv.reader(givenCSVfile, dialect='excel') it will read the excel way of looking at data, which is by quoting any loose commas such as to not have it be mistaken for a delimiter. There is also the writer constant, csv.QUOTE_ALL, which will then quote all fields so that there are not any loose commas that aren't meant to be delimiters. Otherwise I'm not quite sure how to answer this question. </body>\n",
    "<br>\n",
    "<br>\n",
    "<body> Question A4) What is the purpose of heredocs in Python? Heredocs are multi-line strings that can better array information in a format that is easy to read, and can also be used to break up strings. </body>"
   ]
  }
 ],
 "metadata": {
  "kernelspec": {
   "display_name": "Python 3.10.4 64-bit",
   "language": "python",
   "name": "python3"
  },
  "language_info": {
   "codemirror_mode": {
    "name": "ipython",
    "version": 3
   },
   "file_extension": ".py",
   "mimetype": "text/x-python",
   "name": "python",
   "nbconvert_exporter": "python",
   "pygments_lexer": "ipython3",
   "version": "3.10.4"
  },
  "orig_nbformat": 4,
  "vscode": {
   "interpreter": {
    "hash": "916dbcbb3f70747c44a77c7bcd40155683ae19c65e1c03b4aa3499c5328201f1"
   }
  }
 },
 "nbformat": 4,
 "nbformat_minor": 2
}
