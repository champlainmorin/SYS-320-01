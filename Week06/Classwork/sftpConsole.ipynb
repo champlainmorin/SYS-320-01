{
 "cells": [
  {
   "cell_type": "code",
   "execution_count": 13,
   "metadata": {},
   "outputs": [],
   "source": [
    "import paramiko\n",
    "from getpass import getpass\n",
    "\n",
    "# Create the password prompt\n",
    "thepass = getpass(prompt=\"Please enter your SSH password: \")\n",
    "\n",
    "# Host information\n",
    "host = \"192.168.0.2\"\n",
    "port = 22\n",
    "username = \"morin\"\n",
    "password = thepass\n",
    "\n",
    "try:\n",
    "\n",
    "    ssh = paramiko.SSHClient()\n",
    "    ssh.set_missing_host_key_policy(paramiko.AutoAddPolicy())\n",
    "    ssh.connect(host, port, username, password)\n",
    "\n",
    "except paramiko.AuthenticationException:\n",
    "    print(\"Authentication failed\")"
   ]
  },
  {
   "cell_type": "code",
   "execution_count": 15,
   "metadata": {},
   "outputs": [
    {
     "name": "stdout",
     "output_type": "stream",
     "text": [
      "['', 'etc', 'hosts']\n",
      "['', 'etc', 'passwd']\n",
      "['', 'var', 'log', 'auth.log']\n"
     ]
    }
   ],
   "source": [
    "# Start SFTP session\n",
    "sftp = ssh.open_sftp()\n",
    "\n",
    "# List of files to download\n",
    "files = ['/etc/hosts','/etc/passwd','/var/log/auth.log']\n",
    "\n",
    "# Loop through the files and download them.\n",
    "for eachFile in files:\n",
    "\n",
    "    # Create a list from the filename\n",
    "    x = eachFile.split(\"/\")\n",
    "\n",
    "    print(x)\n",
    "\n",
    "    # -1 is used to pluck the last element in a list.\n",
    "    filename = x[-1]\n",
    "    #print(filename)\n",
    "    # Local path to store files\n",
    "    local_path = \"remote_files/\" + filename\n",
    "    sftp.get(eachFile, local_path)\n",
    "    #sftp.put(LOCALFILE, REMOTESIDE)\n",
    "ssh.close()\n",
    "\n"
   ]
  }
 ],
 "metadata": {
  "kernelspec": {
   "display_name": "Python 3.9.13 64-bit (microsoft store)",
   "language": "python",
   "name": "python3"
  },
  "language_info": {
   "codemirror_mode": {
    "name": "ipython",
    "version": 3
   },
   "file_extension": ".py",
   "mimetype": "text/x-python",
   "name": "python",
   "nbconvert_exporter": "python",
   "pygments_lexer": "ipython3",
   "version": "3.9.13"
  },
  "orig_nbformat": 4,
  "vscode": {
   "interpreter": {
    "hash": "ae83aee8a67231a21d9ecbf41c1330e79968bcaebfba708e8106bf7aec19ee1b"
   }
  }
 },
 "nbformat": 4,
 "nbformat_minor": 2
}
